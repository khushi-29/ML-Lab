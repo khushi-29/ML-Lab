{
  "nbformat": 4,
  "nbformat_minor": 0,
  "metadata": {
    "colab": {
      "name": "Neural_Network_Classification.ipynb",
      "provenance": [],
      "collapsed_sections": [],
      "include_colab_link": true
    },
    "kernelspec": {
      "name": "python3",
      "display_name": "Python 3"
    },
    "language_info": {
      "name": "python"
    }
  },
  "cells": [
    {
      "cell_type": "markdown",
      "metadata": {
        "id": "view-in-github",
        "colab_type": "text"
      },
      "source": [
        "<a href=\"https://colab.research.google.com/github/khushi-29/ML-Lab/blob/main/Neural_Network_Classification.ipynb\" target=\"_parent\"><img src=\"https://colab.research.google.com/assets/colab-badge.svg\" alt=\"Open In Colab\"/></a>"
      ]
    },
    {
      "cell_type": "markdown",
      "metadata": {
        "id": "nhPEM4IUoDKA"
      },
      "source": [
        "# Joint Online Faculty Development programme on Deep Learning (Parallel Architecture) Aug 23 – Sep 3 , 2021\n",
        "\n"
      ]
    },
    {
      "cell_type": "markdown",
      "metadata": {
        "id": "ZpJe0cAaoG98"
      },
      "source": [
        "# Tutorial 3: Neural Network Classification"
      ]
    },
    {
      "cell_type": "markdown",
      "metadata": {
        "id": "dIT7QrK2PwdM"
      },
      "source": [
        "Dataset: [Pima Indian Diabetes Dataset](https://data.world/data-society/pima-indians-diabetes-database#)\n",
        "\n",
        "This dataset is originally from the National Institute of Diabetes and Digestive and Kidney Diseases. The objective is to predict based on diagnostic measurements whether a patient has diabetes.\n",
        "\n",
        "Several constraints were placed on the selection of these instances from a larger database. In particular, all patients here are females at least 21 years old of Pima Indian heritage.\n",
        "\n",
        "Attributes of PIMA dataset:\n",
        "\n",
        "**Pregnancies**: Number of times pregnant\n",
        "\n",
        "**Glucose**: Plasma glucose concentration a 2 hours in an oral glucose tolerance test\n",
        "\n",
        "**BloodPressure**: Diastolic blood pressure (mm Hg)\n",
        "\n",
        "**SkinThickness**: Triceps skin fold thickness (mm)\n",
        "\n",
        "**Insulin**: 2-Hour serum insulin (mu U/ml)\n",
        "\n",
        "**BMI**: Body mass index (weight in kg/(height in m)^2)\n",
        "\n",
        "**DiabetesPedigreeFunction**: Diabetes pedigree function\n",
        "\n",
        "**Age**: Age (years)\n",
        "\n",
        "**Outcome**: Class variable (0 or 1)"
      ]
    },
    {
      "cell_type": "markdown",
      "metadata": {
        "id": "FIAgs3sTY712"
      },
      "source": [
        "**1. Mount the Google Drive**"
      ]
    },
    {
      "cell_type": "code",
      "metadata": {
        "id": "CrZg_G5MQ4L5",
        "colab": {
          "base_uri": "https://localhost:8080/"
        },
        "outputId": "b926245b-5af6-4437-bc03-f46de4b4fd7b"
      },
      "source": [
        "from google.colab import drive\n",
        "drive.mount('/content/drive')"
      ],
      "execution_count": 21,
      "outputs": [
        {
          "output_type": "stream",
          "name": "stdout",
          "text": [
            "Drive already mounted at /content/drive; to attempt to forcibly remount, call drive.mount(\"/content/drive\", force_remount=True).\n"
          ]
        }
      ]
    },
    {
      "cell_type": "markdown",
      "metadata": {
        "id": "CqAhYoWHZAwg"
      },
      "source": [
        "**2. Move to the place where data resides**"
      ]
    },
    {
      "cell_type": "code",
      "metadata": {
        "colab": {
          "base_uri": "https://localhost:8080/"
        },
        "id": "TjgG_3CiP4eQ",
        "outputId": "3fe0b675-6afc-40f5-94c4-043a985d513e"
      },
      "source": [
        "%cd /content/drive/MyDrive/Colab Notebooks/"
      ],
      "execution_count": 22,
      "outputs": [
        {
          "output_type": "stream",
          "name": "stdout",
          "text": [
            "/content/drive/MyDrive/Colab Notebooks\n"
          ]
        }
      ]
    },
    {
      "cell_type": "code",
      "source": [
        "!ls"
      ],
      "metadata": {
        "id": "S-KhHH_xATY8",
        "colab": {
          "base_uri": "https://localhost:8080/"
        },
        "outputId": "44fdb6a7-094e-4d18-fc00-7b0efcd58f3a"
      },
      "execution_count": 23,
      "outputs": [
        {
          "output_type": "stream",
          "name": "stdout",
          "text": [
            "'Assignment 1(CT26 and CT45).ipynb'\n",
            "'Copy of Linear Regression .ipynb'\n",
            "'Copy of Linear_Regression_Sklearn.ipynb'\n",
            "'Copy of Logistic_Regression_Scratch.ipynb'\n",
            "'Copy of PERCEPTRON.ipynb'\n",
            "'dataset1 (1).csv'\n",
            "'diabetes (1).csv'\n",
            " diabetes.csv\n",
            "'KhushiSoni CT26 ML.ipynb'\n",
            " marvel.csv\n",
            " Neural_Network_Classification.ipynb\n",
            " petrol_consumption.csv\n",
            " Untitled0.ipynb\n"
          ]
        }
      ]
    },
    {
      "cell_type": "code",
      "source": [
        ""
      ],
      "metadata": {
        "id": "f65jHMx2I_1O"
      },
      "execution_count": 23,
      "outputs": []
    },
    {
      "cell_type": "markdown",
      "metadata": {
        "id": "VKvfswsOZLUB"
      },
      "source": [
        "**3. Read the dataset from CSV file**"
      ]
    },
    {
      "cell_type": "code",
      "metadata": {
        "colab": {
          "base_uri": "https://localhost:8080/",
          "height": 363
        },
        "id": "32nNonRSSaQq",
        "outputId": "0560c30e-1b56-4ce2-dedc-c50bdaa88a3b"
      },
      "source": [
        "import pandas as pd\n",
        "data = pd.read_csv('diabetes.csv')\n",
        "data.head(10)"
      ],
      "execution_count": 24,
      "outputs": [
        {
          "output_type": "execute_result",
          "data": {
            "text/plain": [
              "   Pregnancies  Glucose  BloodPressure  SkinThickness  Insulin   BMI  \\\n",
              "0            6      148             72             35        0  33.6   \n",
              "1            1       85             66             29        0  26.6   \n",
              "2            8      183             64              0        0  23.3   \n",
              "3            1       89             66             23       94  28.1   \n",
              "4            0      137             40             35      168  43.1   \n",
              "5            5      116             74              0        0  25.6   \n",
              "6            3       78             50             32       88  31.0   \n",
              "7           10      115              0              0        0  35.3   \n",
              "8            2      197             70             45      543  30.5   \n",
              "9            8      125             96              0        0   0.0   \n",
              "\n",
              "   DiabetesPedigreeFunction  Age  Outcome  \n",
              "0                     0.627   50        1  \n",
              "1                     0.351   31        0  \n",
              "2                     0.672   32        1  \n",
              "3                     0.167   21        0  \n",
              "4                     2.288   33        1  \n",
              "5                     0.201   30        0  \n",
              "6                     0.248   26        1  \n",
              "7                     0.134   29        0  \n",
              "8                     0.158   53        1  \n",
              "9                     0.232   54        1  "
            ],
            "text/html": [
              "\n",
              "  <div id=\"df-36392d81-de28-4e7a-bb1c-fddf43b5b088\">\n",
              "    <div class=\"colab-df-container\">\n",
              "      <div>\n",
              "<style scoped>\n",
              "    .dataframe tbody tr th:only-of-type {\n",
              "        vertical-align: middle;\n",
              "    }\n",
              "\n",
              "    .dataframe tbody tr th {\n",
              "        vertical-align: top;\n",
              "    }\n",
              "\n",
              "    .dataframe thead th {\n",
              "        text-align: right;\n",
              "    }\n",
              "</style>\n",
              "<table border=\"1\" class=\"dataframe\">\n",
              "  <thead>\n",
              "    <tr style=\"text-align: right;\">\n",
              "      <th></th>\n",
              "      <th>Pregnancies</th>\n",
              "      <th>Glucose</th>\n",
              "      <th>BloodPressure</th>\n",
              "      <th>SkinThickness</th>\n",
              "      <th>Insulin</th>\n",
              "      <th>BMI</th>\n",
              "      <th>DiabetesPedigreeFunction</th>\n",
              "      <th>Age</th>\n",
              "      <th>Outcome</th>\n",
              "    </tr>\n",
              "  </thead>\n",
              "  <tbody>\n",
              "    <tr>\n",
              "      <th>0</th>\n",
              "      <td>6</td>\n",
              "      <td>148</td>\n",
              "      <td>72</td>\n",
              "      <td>35</td>\n",
              "      <td>0</td>\n",
              "      <td>33.6</td>\n",
              "      <td>0.627</td>\n",
              "      <td>50</td>\n",
              "      <td>1</td>\n",
              "    </tr>\n",
              "    <tr>\n",
              "      <th>1</th>\n",
              "      <td>1</td>\n",
              "      <td>85</td>\n",
              "      <td>66</td>\n",
              "      <td>29</td>\n",
              "      <td>0</td>\n",
              "      <td>26.6</td>\n",
              "      <td>0.351</td>\n",
              "      <td>31</td>\n",
              "      <td>0</td>\n",
              "    </tr>\n",
              "    <tr>\n",
              "      <th>2</th>\n",
              "      <td>8</td>\n",
              "      <td>183</td>\n",
              "      <td>64</td>\n",
              "      <td>0</td>\n",
              "      <td>0</td>\n",
              "      <td>23.3</td>\n",
              "      <td>0.672</td>\n",
              "      <td>32</td>\n",
              "      <td>1</td>\n",
              "    </tr>\n",
              "    <tr>\n",
              "      <th>3</th>\n",
              "      <td>1</td>\n",
              "      <td>89</td>\n",
              "      <td>66</td>\n",
              "      <td>23</td>\n",
              "      <td>94</td>\n",
              "      <td>28.1</td>\n",
              "      <td>0.167</td>\n",
              "      <td>21</td>\n",
              "      <td>0</td>\n",
              "    </tr>\n",
              "    <tr>\n",
              "      <th>4</th>\n",
              "      <td>0</td>\n",
              "      <td>137</td>\n",
              "      <td>40</td>\n",
              "      <td>35</td>\n",
              "      <td>168</td>\n",
              "      <td>43.1</td>\n",
              "      <td>2.288</td>\n",
              "      <td>33</td>\n",
              "      <td>1</td>\n",
              "    </tr>\n",
              "    <tr>\n",
              "      <th>5</th>\n",
              "      <td>5</td>\n",
              "      <td>116</td>\n",
              "      <td>74</td>\n",
              "      <td>0</td>\n",
              "      <td>0</td>\n",
              "      <td>25.6</td>\n",
              "      <td>0.201</td>\n",
              "      <td>30</td>\n",
              "      <td>0</td>\n",
              "    </tr>\n",
              "    <tr>\n",
              "      <th>6</th>\n",
              "      <td>3</td>\n",
              "      <td>78</td>\n",
              "      <td>50</td>\n",
              "      <td>32</td>\n",
              "      <td>88</td>\n",
              "      <td>31.0</td>\n",
              "      <td>0.248</td>\n",
              "      <td>26</td>\n",
              "      <td>1</td>\n",
              "    </tr>\n",
              "    <tr>\n",
              "      <th>7</th>\n",
              "      <td>10</td>\n",
              "      <td>115</td>\n",
              "      <td>0</td>\n",
              "      <td>0</td>\n",
              "      <td>0</td>\n",
              "      <td>35.3</td>\n",
              "      <td>0.134</td>\n",
              "      <td>29</td>\n",
              "      <td>0</td>\n",
              "    </tr>\n",
              "    <tr>\n",
              "      <th>8</th>\n",
              "      <td>2</td>\n",
              "      <td>197</td>\n",
              "      <td>70</td>\n",
              "      <td>45</td>\n",
              "      <td>543</td>\n",
              "      <td>30.5</td>\n",
              "      <td>0.158</td>\n",
              "      <td>53</td>\n",
              "      <td>1</td>\n",
              "    </tr>\n",
              "    <tr>\n",
              "      <th>9</th>\n",
              "      <td>8</td>\n",
              "      <td>125</td>\n",
              "      <td>96</td>\n",
              "      <td>0</td>\n",
              "      <td>0</td>\n",
              "      <td>0.0</td>\n",
              "      <td>0.232</td>\n",
              "      <td>54</td>\n",
              "      <td>1</td>\n",
              "    </tr>\n",
              "  </tbody>\n",
              "</table>\n",
              "</div>\n",
              "      <button class=\"colab-df-convert\" onclick=\"convertToInteractive('df-36392d81-de28-4e7a-bb1c-fddf43b5b088')\"\n",
              "              title=\"Convert this dataframe to an interactive table.\"\n",
              "              style=\"display:none;\">\n",
              "        \n",
              "  <svg xmlns=\"http://www.w3.org/2000/svg\" height=\"24px\"viewBox=\"0 0 24 24\"\n",
              "       width=\"24px\">\n",
              "    <path d=\"M0 0h24v24H0V0z\" fill=\"none\"/>\n",
              "    <path d=\"M18.56 5.44l.94 2.06.94-2.06 2.06-.94-2.06-.94-.94-2.06-.94 2.06-2.06.94zm-11 1L8.5 8.5l.94-2.06 2.06-.94-2.06-.94L8.5 2.5l-.94 2.06-2.06.94zm10 10l.94 2.06.94-2.06 2.06-.94-2.06-.94-.94-2.06-.94 2.06-2.06.94z\"/><path d=\"M17.41 7.96l-1.37-1.37c-.4-.4-.92-.59-1.43-.59-.52 0-1.04.2-1.43.59L10.3 9.45l-7.72 7.72c-.78.78-.78 2.05 0 2.83L4 21.41c.39.39.9.59 1.41.59.51 0 1.02-.2 1.41-.59l7.78-7.78 2.81-2.81c.8-.78.8-2.07 0-2.86zM5.41 20L4 18.59l7.72-7.72 1.47 1.35L5.41 20z\"/>\n",
              "  </svg>\n",
              "      </button>\n",
              "      \n",
              "  <style>\n",
              "    .colab-df-container {\n",
              "      display:flex;\n",
              "      flex-wrap:wrap;\n",
              "      gap: 12px;\n",
              "    }\n",
              "\n",
              "    .colab-df-convert {\n",
              "      background-color: #E8F0FE;\n",
              "      border: none;\n",
              "      border-radius: 50%;\n",
              "      cursor: pointer;\n",
              "      display: none;\n",
              "      fill: #1967D2;\n",
              "      height: 32px;\n",
              "      padding: 0 0 0 0;\n",
              "      width: 32px;\n",
              "    }\n",
              "\n",
              "    .colab-df-convert:hover {\n",
              "      background-color: #E2EBFA;\n",
              "      box-shadow: 0px 1px 2px rgba(60, 64, 67, 0.3), 0px 1px 3px 1px rgba(60, 64, 67, 0.15);\n",
              "      fill: #174EA6;\n",
              "    }\n",
              "\n",
              "    [theme=dark] .colab-df-convert {\n",
              "      background-color: #3B4455;\n",
              "      fill: #D2E3FC;\n",
              "    }\n",
              "\n",
              "    [theme=dark] .colab-df-convert:hover {\n",
              "      background-color: #434B5C;\n",
              "      box-shadow: 0px 1px 3px 1px rgba(0, 0, 0, 0.15);\n",
              "      filter: drop-shadow(0px 1px 2px rgba(0, 0, 0, 0.3));\n",
              "      fill: #FFFFFF;\n",
              "    }\n",
              "  </style>\n",
              "\n",
              "      <script>\n",
              "        const buttonEl =\n",
              "          document.querySelector('#df-36392d81-de28-4e7a-bb1c-fddf43b5b088 button.colab-df-convert');\n",
              "        buttonEl.style.display =\n",
              "          google.colab.kernel.accessAllowed ? 'block' : 'none';\n",
              "\n",
              "        async function convertToInteractive(key) {\n",
              "          const element = document.querySelector('#df-36392d81-de28-4e7a-bb1c-fddf43b5b088');\n",
              "          const dataTable =\n",
              "            await google.colab.kernel.invokeFunction('convertToInteractive',\n",
              "                                                     [key], {});\n",
              "          if (!dataTable) return;\n",
              "\n",
              "          const docLinkHtml = 'Like what you see? Visit the ' +\n",
              "            '<a target=\"_blank\" href=https://colab.research.google.com/notebooks/data_table.ipynb>data table notebook</a>'\n",
              "            + ' to learn more about interactive tables.';\n",
              "          element.innerHTML = '';\n",
              "          dataTable['output_type'] = 'display_data';\n",
              "          await google.colab.output.renderOutput(dataTable, element);\n",
              "          const docLink = document.createElement('div');\n",
              "          docLink.innerHTML = docLinkHtml;\n",
              "          element.appendChild(docLink);\n",
              "        }\n",
              "      </script>\n",
              "    </div>\n",
              "  </div>\n",
              "  "
            ]
          },
          "metadata": {},
          "execution_count": 24
        }
      ]
    },
    {
      "cell_type": "code",
      "metadata": {
        "colab": {
          "base_uri": "https://localhost:8080/"
        },
        "id": "ZrslDLESShr7",
        "outputId": "f91a2db5-a8ef-4aab-bedf-6017105bf4c4"
      },
      "source": [
        "data.columns"
      ],
      "execution_count": 25,
      "outputs": [
        {
          "output_type": "execute_result",
          "data": {
            "text/plain": [
              "Index(['Pregnancies', 'Glucose', 'BloodPressure', 'SkinThickness', 'Insulin',\n",
              "       'BMI', 'DiabetesPedigreeFunction', 'Age', 'Outcome'],\n",
              "      dtype='object')"
            ]
          },
          "metadata": {},
          "execution_count": 25
        }
      ]
    },
    {
      "cell_type": "code",
      "metadata": {
        "colab": {
          "base_uri": "https://localhost:8080/"
        },
        "id": "BLElehZ-Skgq",
        "outputId": "8794c84b-678b-4248-e6a9-d7f0bb01c0e5"
      },
      "source": [
        "data.values"
      ],
      "execution_count": 26,
      "outputs": [
        {
          "output_type": "execute_result",
          "data": {
            "text/plain": [
              "array([[  6.   , 148.   ,  72.   , ...,   0.627,  50.   ,   1.   ],\n",
              "       [  1.   ,  85.   ,  66.   , ...,   0.351,  31.   ,   0.   ],\n",
              "       [  8.   , 183.   ,  64.   , ...,   0.672,  32.   ,   1.   ],\n",
              "       ...,\n",
              "       [  5.   , 121.   ,  72.   , ...,   0.245,  30.   ,   0.   ],\n",
              "       [  1.   , 126.   ,  60.   , ...,   0.349,  47.   ,   1.   ],\n",
              "       [  1.   ,  93.   ,  70.   , ...,   0.315,  23.   ,   0.   ]])"
            ]
          },
          "metadata": {},
          "execution_count": 26
        }
      ]
    },
    {
      "cell_type": "markdown",
      "metadata": {
        "id": "2HnZxGc4ZQlf"
      },
      "source": [
        "**4. Store the data into input feature and label variables**"
      ]
    },
    {
      "cell_type": "code",
      "metadata": {
        "colab": {
          "base_uri": "https://localhost:8080/"
        },
        "id": "IPfA5BF0Sm4R",
        "outputId": "5e70b7ce-df45-46e3-a5a1-00288aec9ea9"
      },
      "source": [
        "dataset= data.values\n",
        "X = dataset[:,0:8]\n",
        "Y = dataset[:,8]\n",
        "print(X)\n",
        "print(Y)"
      ],
      "execution_count": 27,
      "outputs": [
        {
          "output_type": "stream",
          "name": "stdout",
          "text": [
            "[[  6.    148.     72.    ...  33.6     0.627  50.   ]\n",
            " [  1.     85.     66.    ...  26.6     0.351  31.   ]\n",
            " [  8.    183.     64.    ...  23.3     0.672  32.   ]\n",
            " ...\n",
            " [  5.    121.     72.    ...  26.2     0.245  30.   ]\n",
            " [  1.    126.     60.    ...  30.1     0.349  47.   ]\n",
            " [  1.     93.     70.    ...  30.4     0.315  23.   ]]\n",
            "[1. 0. 1. 0. 1. 0. 1. 0. 1. 1. 0. 1. 0. 1. 1. 1. 1. 1. 0. 1. 0. 0. 1. 1.\n",
            " 1. 1. 1. 0. 0. 0. 0. 1. 0. 0. 0. 0. 0. 1. 1. 1. 0. 0. 0. 1. 0. 1. 0. 0.\n",
            " 1. 0. 0. 0. 0. 1. 0. 0. 1. 0. 0. 0. 0. 1. 0. 0. 1. 0. 1. 0. 0. 0. 1. 0.\n",
            " 1. 0. 0. 0. 0. 0. 1. 0. 0. 0. 0. 0. 1. 0. 0. 0. 1. 0. 0. 0. 0. 1. 0. 0.\n",
            " 0. 0. 0. 1. 1. 0. 0. 0. 0. 0. 0. 0. 0. 1. 1. 1. 0. 0. 1. 1. 1. 0. 0. 0.\n",
            " 1. 0. 0. 0. 1. 1. 0. 0. 1. 1. 1. 1. 1. 0. 0. 0. 0. 0. 0. 0. 0. 0. 0. 1.\n",
            " 0. 0. 0. 0. 0. 0. 0. 0. 1. 0. 1. 1. 0. 0. 0. 1. 0. 0. 0. 0. 1. 1. 0. 0.\n",
            " 0. 0. 1. 1. 0. 0. 0. 1. 0. 1. 0. 1. 0. 0. 0. 0. 0. 1. 1. 1. 1. 1. 0. 0.\n",
            " 1. 1. 0. 1. 0. 1. 1. 1. 0. 0. 0. 0. 0. 0. 1. 1. 0. 1. 0. 0. 0. 1. 1. 1.\n",
            " 1. 0. 1. 1. 1. 1. 0. 0. 0. 0. 0. 1. 0. 0. 1. 1. 0. 0. 0. 1. 1. 1. 1. 0.\n",
            " 0. 0. 1. 1. 0. 1. 0. 0. 0. 0. 0. 0. 0. 0. 1. 1. 0. 0. 0. 1. 0. 1. 0. 0.\n",
            " 1. 0. 1. 0. 0. 1. 1. 0. 0. 0. 0. 0. 1. 0. 0. 0. 1. 0. 0. 1. 1. 0. 0. 1.\n",
            " 0. 0. 0. 1. 1. 1. 0. 0. 1. 0. 1. 0. 1. 1. 0. 1. 0. 0. 1. 0. 1. 1. 0. 0.\n",
            " 1. 0. 1. 0. 0. 1. 0. 1. 0. 1. 1. 1. 0. 0. 1. 0. 1. 0. 0. 0. 1. 0. 0. 0.\n",
            " 0. 1. 1. 1. 0. 0. 0. 0. 0. 0. 0. 0. 0. 1. 0. 0. 0. 0. 0. 1. 1. 1. 0. 1.\n",
            " 1. 0. 0. 1. 0. 0. 1. 0. 0. 1. 1. 0. 0. 0. 0. 1. 0. 0. 1. 0. 0. 0. 0. 0.\n",
            " 0. 0. 1. 1. 1. 0. 0. 1. 0. 0. 1. 0. 0. 1. 0. 1. 1. 0. 1. 0. 1. 0. 1. 0.\n",
            " 1. 1. 0. 0. 0. 0. 1. 1. 0. 1. 0. 1. 0. 0. 0. 0. 1. 1. 0. 1. 0. 1. 0. 0.\n",
            " 0. 0. 0. 1. 0. 0. 0. 0. 1. 0. 0. 1. 1. 1. 0. 0. 1. 0. 0. 1. 0. 0. 0. 1.\n",
            " 0. 0. 1. 0. 0. 0. 0. 0. 0. 0. 0. 0. 1. 0. 0. 0. 0. 0. 0. 0. 1. 0. 0. 0.\n",
            " 1. 0. 0. 0. 1. 1. 0. 0. 0. 0. 0. 0. 0. 1. 0. 0. 0. 0. 1. 0. 0. 0. 1. 0.\n",
            " 0. 0. 1. 0. 0. 0. 1. 0. 0. 0. 0. 1. 1. 0. 0. 0. 0. 0. 0. 1. 0. 0. 0. 0.\n",
            " 0. 0. 0. 0. 0. 0. 0. 1. 0. 0. 0. 1. 1. 1. 1. 0. 0. 1. 1. 0. 0. 0. 0. 0.\n",
            " 0. 0. 0. 0. 0. 0. 0. 0. 1. 1. 0. 0. 0. 0. 0. 0. 0. 1. 0. 0. 0. 0. 0. 0.\n",
            " 0. 1. 0. 1. 1. 0. 0. 0. 1. 0. 1. 0. 1. 0. 1. 0. 1. 0. 0. 1. 0. 0. 1. 0.\n",
            " 0. 0. 0. 1. 1. 0. 1. 0. 0. 0. 0. 1. 1. 0. 1. 0. 0. 0. 1. 1. 0. 0. 0. 0.\n",
            " 0. 0. 0. 0. 0. 0. 1. 0. 0. 0. 0. 1. 0. 0. 1. 0. 0. 0. 1. 0. 0. 0. 1. 1.\n",
            " 1. 0. 0. 0. 0. 0. 0. 1. 0. 0. 0. 1. 0. 1. 1. 1. 1. 0. 1. 1. 0. 0. 0. 0.\n",
            " 0. 0. 0. 1. 1. 0. 1. 0. 0. 1. 0. 1. 0. 0. 0. 0. 0. 1. 0. 1. 0. 1. 0. 1.\n",
            " 1. 0. 0. 0. 0. 1. 1. 0. 0. 0. 1. 0. 1. 1. 0. 0. 1. 0. 0. 1. 1. 0. 0. 1.\n",
            " 0. 0. 1. 0. 0. 0. 0. 0. 0. 0. 1. 1. 1. 0. 0. 0. 0. 0. 0. 1. 1. 0. 0. 1.\n",
            " 0. 0. 1. 0. 1. 1. 1. 0. 0. 1. 1. 1. 0. 1. 0. 1. 0. 1. 0. 0. 0. 0. 1. 0.]\n"
          ]
        }
      ]
    },
    {
      "cell_type": "markdown",
      "metadata": {
        "id": "OdPZerNUZV4Q"
      },
      "source": [
        "**5. Data Normalization**"
      ]
    },
    {
      "cell_type": "code",
      "metadata": {
        "colab": {
          "base_uri": "https://localhost:8080/"
        },
        "id": "pM4g3T1fWri-",
        "outputId": "42abf141-47a4-442e-d16e-626eab3eb49b"
      },
      "source": [
        "from sklearn import preprocessing\n",
        "min_max_scaler = preprocessing.MinMaxScaler()\n",
        "X_scale = min_max_scaler.fit_transform(X)\n",
        "X_scale"
      ],
      "execution_count": 28,
      "outputs": [
        {
          "output_type": "execute_result",
          "data": {
            "text/plain": [
              "array([[0.35294118, 0.74371859, 0.59016393, ..., 0.50074516, 0.23441503,\n",
              "        0.48333333],\n",
              "       [0.05882353, 0.42713568, 0.54098361, ..., 0.39642325, 0.11656704,\n",
              "        0.16666667],\n",
              "       [0.47058824, 0.91959799, 0.52459016, ..., 0.34724292, 0.25362938,\n",
              "        0.18333333],\n",
              "       ...,\n",
              "       [0.29411765, 0.6080402 , 0.59016393, ..., 0.390462  , 0.07130658,\n",
              "        0.15      ],\n",
              "       [0.05882353, 0.63316583, 0.49180328, ..., 0.4485842 , 0.11571307,\n",
              "        0.43333333],\n",
              "       [0.05882353, 0.46733668, 0.57377049, ..., 0.45305514, 0.10119556,\n",
              "        0.03333333]])"
            ]
          },
          "metadata": {},
          "execution_count": 28
        }
      ]
    },
    {
      "cell_type": "markdown",
      "metadata": {
        "id": "n1B5x8C0ZY-e"
      },
      "source": [
        "**6. One-hot vector conversion**"
      ]
    },
    {
      "cell_type": "code",
      "metadata": {
        "colab": {
          "base_uri": "https://localhost:8080/"
        },
        "id": "IWPUAnA-XNd8",
        "outputId": "7e62298e-8c32-497f-adb4-8f2eec8e3ba5"
      },
      "source": [
        "from keras.utils import np_utils\n",
        "encoded_y = np_utils.to_categorical(Y)\n",
        "encoded_y"
      ],
      "execution_count": 29,
      "outputs": [
        {
          "output_type": "execute_result",
          "data": {
            "text/plain": [
              "array([[0., 1.],\n",
              "       [1., 0.],\n",
              "       [0., 1.],\n",
              "       ...,\n",
              "       [1., 0.],\n",
              "       [0., 1.],\n",
              "       [1., 0.]], dtype=float32)"
            ]
          },
          "metadata": {},
          "execution_count": 29
        }
      ]
    },
    {
      "cell_type": "markdown",
      "metadata": {
        "id": "IeJWmMxjZbgo"
      },
      "source": [
        "**7. Split the dataset into training, testing and validation set**"
      ]
    },
    {
      "cell_type": "code",
      "metadata": {
        "colab": {
          "base_uri": "https://localhost:8080/"
        },
        "id": "3BqXnV1FXYIV",
        "outputId": "c51c42a7-749d-4d56-a1f3-e11babd50fdb"
      },
      "source": [
        "from sklearn.model_selection import train_test_split\n",
        "X_training, X_testing, Y_training, Y_testing = train_test_split(X_scale, encoded_y, test_size=0.3, random_state=10)\n",
        "X_training, X_valid, Y_training, Y_valid = train_test_split(X_training, Y_training, test_size=0.3, random_state=10)\n",
        "print(len(X_training))\n",
        "print(len(X_testing))\n",
        "print(len(X_valid))"
      ],
      "execution_count": 44,
      "outputs": [
        {
          "output_type": "stream",
          "name": "stdout",
          "text": [
            "375\n",
            "231\n",
            "162\n"
          ]
        }
      ]
    },
    {
      "cell_type": "markdown",
      "metadata": {
        "id": "EH9IZizVZfKB"
      },
      "source": [
        "**8. Model Creation**"
      ]
    },
    {
      "cell_type": "code",
      "metadata": {
        "colab": {
          "base_uri": "https://localhost:8080/"
        },
        "id": "hNfmvbMOXeku",
        "outputId": "cb42ed8e-91ee-430a-d18b-db991983a9ed"
      },
      "source": [
        "from keras.models import Sequential\n",
        "from keras.layers import Dense\n",
        "\n",
        "# Creating the model\n",
        "model = Sequential()\n",
        "model.add(Dense(8, input_shape=(8,), activation='relu'))\n",
        "model.add(Dense(12, activation='relu'))\n",
        "model.add(Dense(12, activation='relu'))\n",
        "model.add(Dense(12, activation='relu'))\n",
        "model.add(Dense(2, activation='softmax'))\n",
        "model.summary()   #gives a summary of the model"
      ],
      "execution_count": 45,
      "outputs": [
        {
          "output_type": "stream",
          "name": "stdout",
          "text": [
            "Model: \"sequential_2\"\n",
            "_________________________________________________________________\n",
            " Layer (type)                Output Shape              Param #   \n",
            "=================================================================\n",
            " dense_10 (Dense)            (None, 8)                 72        \n",
            "                                                                 \n",
            " dense_11 (Dense)            (None, 12)                108       \n",
            "                                                                 \n",
            " dense_12 (Dense)            (None, 12)                156       \n",
            "                                                                 \n",
            " dense_13 (Dense)            (None, 12)                156       \n",
            "                                                                 \n",
            " dense_14 (Dense)            (None, 2)                 26        \n",
            "                                                                 \n",
            "=================================================================\n",
            "Total params: 518\n",
            "Trainable params: 518\n",
            "Non-trainable params: 0\n",
            "_________________________________________________________________\n"
          ]
        }
      ]
    },
    {
      "cell_type": "markdown",
      "metadata": {
        "id": "iYxZHI_EZiEF"
      },
      "source": [
        "**9. Model Compile**"
      ]
    },
    {
      "cell_type": "code",
      "metadata": {
        "id": "plF2qlxwXiIY"
      },
      "source": [
        "from tensorflow.keras import optimizers\n",
        "opt=optimizers.SGD(learning_rate=0.01)\n",
        "model.compile(loss='categorical_crossentropy', optimizer=opt, metrics=['accuracy'])"
      ],
      "execution_count": 48,
      "outputs": []
    },
    {
      "cell_type": "markdown",
      "metadata": {
        "id": "E8VrUFVQZkNd"
      },
      "source": [
        "**10. Model Training**"
      ]
    },
    {
      "cell_type": "markdown",
      "source": [
        "if you have 1000 training examples, and your batch size is  500, then it will take 2 iterations to complete 1 epoch."
      ],
      "metadata": {
        "id": "08Ul5lN90_Sp"
      }
    },
    {
      "cell_type": "code",
      "metadata": {
        "colab": {
          "base_uri": "https://localhost:8080/"
        },
        "id": "xhDZ8yPhXrs0",
        "outputId": "337986f1-bbb1-4f1b-c55e-13e8368037ab"
      },
      "source": [
        "hist = model.fit(X_training, Y_training,batch_size=6,  epochs=100, validation_data=(X_valid,Y_valid))"
      ],
      "execution_count": 49,
      "outputs": [
        {
          "output_type": "stream",
          "name": "stdout",
          "text": [
            "Epoch 1/100\n",
            "63/63 [==============================] - 1s 6ms/step - loss: 0.5782 - accuracy: 0.6933 - val_loss: 0.6878 - val_accuracy: 0.5926\n",
            "Epoch 2/100\n",
            "63/63 [==============================] - 0s 3ms/step - loss: 0.5732 - accuracy: 0.6933 - val_loss: 0.6718 - val_accuracy: 0.5926\n",
            "Epoch 3/100\n",
            "63/63 [==============================] - 0s 2ms/step - loss: 0.5681 - accuracy: 0.6933 - val_loss: 0.6715 - val_accuracy: 0.5926\n",
            "Epoch 4/100\n",
            "63/63 [==============================] - 0s 3ms/step - loss: 0.5603 - accuracy: 0.6933 - val_loss: 0.6635 - val_accuracy: 0.5926\n",
            "Epoch 5/100\n",
            "63/63 [==============================] - 0s 3ms/step - loss: 0.5564 - accuracy: 0.6933 - val_loss: 0.6773 - val_accuracy: 0.5926\n",
            "Epoch 6/100\n",
            "63/63 [==============================] - 0s 2ms/step - loss: 0.5505 - accuracy: 0.6933 - val_loss: 0.6854 - val_accuracy: 0.5926\n",
            "Epoch 7/100\n",
            "63/63 [==============================] - 0s 3ms/step - loss: 0.5440 - accuracy: 0.6933 - val_loss: 0.6606 - val_accuracy: 0.5926\n",
            "Epoch 8/100\n",
            "63/63 [==============================] - 0s 3ms/step - loss: 0.5390 - accuracy: 0.6933 - val_loss: 0.6654 - val_accuracy: 0.5926\n",
            "Epoch 9/100\n",
            "63/63 [==============================] - 0s 3ms/step - loss: 0.5301 - accuracy: 0.6933 - val_loss: 0.6536 - val_accuracy: 0.5926\n",
            "Epoch 10/100\n",
            "63/63 [==============================] - 0s 3ms/step - loss: 0.5257 - accuracy: 0.6933 - val_loss: 0.6506 - val_accuracy: 0.5926\n",
            "Epoch 11/100\n",
            "63/63 [==============================] - 0s 3ms/step - loss: 0.5145 - accuracy: 0.6933 - val_loss: 0.6714 - val_accuracy: 0.5926\n",
            "Epoch 12/100\n",
            "63/63 [==============================] - 0s 3ms/step - loss: 0.5115 - accuracy: 0.7093 - val_loss: 0.6312 - val_accuracy: 0.6543\n",
            "Epoch 13/100\n",
            "63/63 [==============================] - 0s 3ms/step - loss: 0.5024 - accuracy: 0.7227 - val_loss: 0.6642 - val_accuracy: 0.6420\n",
            "Epoch 14/100\n",
            "63/63 [==============================] - 0s 3ms/step - loss: 0.4976 - accuracy: 0.7360 - val_loss: 0.6303 - val_accuracy: 0.6914\n",
            "Epoch 15/100\n",
            "63/63 [==============================] - 0s 3ms/step - loss: 0.4891 - accuracy: 0.7307 - val_loss: 0.6221 - val_accuracy: 0.6481\n",
            "Epoch 16/100\n",
            "63/63 [==============================] - 0s 2ms/step - loss: 0.4819 - accuracy: 0.7520 - val_loss: 0.6518 - val_accuracy: 0.6728\n",
            "Epoch 17/100\n",
            "63/63 [==============================] - 0s 3ms/step - loss: 0.4780 - accuracy: 0.7280 - val_loss: 0.6156 - val_accuracy: 0.6728\n",
            "Epoch 18/100\n",
            "63/63 [==============================] - 0s 3ms/step - loss: 0.4718 - accuracy: 0.7493 - val_loss: 0.6117 - val_accuracy: 0.6728\n",
            "Epoch 19/100\n",
            "63/63 [==============================] - 0s 2ms/step - loss: 0.4658 - accuracy: 0.7520 - val_loss: 0.5905 - val_accuracy: 0.6914\n",
            "Epoch 20/100\n",
            "63/63 [==============================] - 0s 3ms/step - loss: 0.4652 - accuracy: 0.7653 - val_loss: 0.6036 - val_accuracy: 0.6790\n",
            "Epoch 21/100\n",
            "63/63 [==============================] - 0s 2ms/step - loss: 0.4614 - accuracy: 0.7813 - val_loss: 0.5847 - val_accuracy: 0.6975\n",
            "Epoch 22/100\n",
            "63/63 [==============================] - 0s 2ms/step - loss: 0.4553 - accuracy: 0.7760 - val_loss: 0.6723 - val_accuracy: 0.6790\n",
            "Epoch 23/100\n",
            "63/63 [==============================] - 0s 3ms/step - loss: 0.4562 - accuracy: 0.7600 - val_loss: 0.6202 - val_accuracy: 0.6728\n",
            "Epoch 24/100\n",
            "63/63 [==============================] - 0s 3ms/step - loss: 0.4479 - accuracy: 0.7707 - val_loss: 0.6556 - val_accuracy: 0.6790\n",
            "Epoch 25/100\n",
            "63/63 [==============================] - 0s 3ms/step - loss: 0.4477 - accuracy: 0.7840 - val_loss: 0.5740 - val_accuracy: 0.7099\n",
            "Epoch 26/100\n",
            "63/63 [==============================] - 0s 3ms/step - loss: 0.4450 - accuracy: 0.7707 - val_loss: 0.5898 - val_accuracy: 0.6975\n",
            "Epoch 27/100\n",
            "63/63 [==============================] - 0s 3ms/step - loss: 0.4442 - accuracy: 0.7760 - val_loss: 0.6377 - val_accuracy: 0.6975\n",
            "Epoch 28/100\n",
            "63/63 [==============================] - 0s 3ms/step - loss: 0.4420 - accuracy: 0.7733 - val_loss: 0.5724 - val_accuracy: 0.6975\n",
            "Epoch 29/100\n",
            "63/63 [==============================] - 0s 3ms/step - loss: 0.4344 - accuracy: 0.7893 - val_loss: 0.5819 - val_accuracy: 0.6975\n",
            "Epoch 30/100\n",
            "63/63 [==============================] - 0s 3ms/step - loss: 0.4301 - accuracy: 0.7680 - val_loss: 0.5795 - val_accuracy: 0.6667\n",
            "Epoch 31/100\n",
            "63/63 [==============================] - 0s 3ms/step - loss: 0.4404 - accuracy: 0.7733 - val_loss: 0.6797 - val_accuracy: 0.7099\n",
            "Epoch 32/100\n",
            "63/63 [==============================] - 0s 3ms/step - loss: 0.4424 - accuracy: 0.7813 - val_loss: 0.5963 - val_accuracy: 0.6914\n",
            "Epoch 33/100\n",
            "63/63 [==============================] - 0s 3ms/step - loss: 0.4373 - accuracy: 0.7893 - val_loss: 0.6267 - val_accuracy: 0.7099\n",
            "Epoch 34/100\n",
            "63/63 [==============================] - 0s 3ms/step - loss: 0.4379 - accuracy: 0.7840 - val_loss: 0.6756 - val_accuracy: 0.7222\n",
            "Epoch 35/100\n",
            "63/63 [==============================] - 0s 3ms/step - loss: 0.4404 - accuracy: 0.7733 - val_loss: 0.5755 - val_accuracy: 0.6975\n",
            "Epoch 36/100\n",
            "63/63 [==============================] - 0s 3ms/step - loss: 0.4280 - accuracy: 0.7733 - val_loss: 0.5578 - val_accuracy: 0.7160\n",
            "Epoch 37/100\n",
            "63/63 [==============================] - 0s 3ms/step - loss: 0.4376 - accuracy: 0.7893 - val_loss: 0.5745 - val_accuracy: 0.6914\n",
            "Epoch 38/100\n",
            "63/63 [==============================] - 0s 3ms/step - loss: 0.4316 - accuracy: 0.7840 - val_loss: 0.6814 - val_accuracy: 0.7222\n",
            "Epoch 39/100\n",
            "63/63 [==============================] - 0s 3ms/step - loss: 0.4351 - accuracy: 0.8000 - val_loss: 0.5511 - val_accuracy: 0.7160\n",
            "Epoch 40/100\n",
            "63/63 [==============================] - 0s 3ms/step - loss: 0.4322 - accuracy: 0.7813 - val_loss: 0.6170 - val_accuracy: 0.7284\n",
            "Epoch 41/100\n",
            "63/63 [==============================] - 0s 3ms/step - loss: 0.4309 - accuracy: 0.7787 - val_loss: 0.6038 - val_accuracy: 0.7284\n",
            "Epoch 42/100\n",
            "63/63 [==============================] - 0s 3ms/step - loss: 0.4261 - accuracy: 0.7813 - val_loss: 0.5664 - val_accuracy: 0.6975\n",
            "Epoch 43/100\n",
            "63/63 [==============================] - 0s 3ms/step - loss: 0.4253 - accuracy: 0.7840 - val_loss: 0.6161 - val_accuracy: 0.7222\n",
            "Epoch 44/100\n",
            "63/63 [==============================] - 0s 3ms/step - loss: 0.4265 - accuracy: 0.7840 - val_loss: 0.6328 - val_accuracy: 0.7407\n",
            "Epoch 45/100\n",
            "63/63 [==============================] - 0s 3ms/step - loss: 0.4235 - accuracy: 0.7787 - val_loss: 0.5983 - val_accuracy: 0.6975\n",
            "Epoch 46/100\n",
            "63/63 [==============================] - 0s 3ms/step - loss: 0.4240 - accuracy: 0.7920 - val_loss: 0.5627 - val_accuracy: 0.7037\n",
            "Epoch 47/100\n",
            "63/63 [==============================] - 0s 3ms/step - loss: 0.4281 - accuracy: 0.7973 - val_loss: 0.5567 - val_accuracy: 0.6975\n",
            "Epoch 48/100\n",
            "63/63 [==============================] - 0s 3ms/step - loss: 0.4306 - accuracy: 0.7760 - val_loss: 0.5809 - val_accuracy: 0.7222\n",
            "Epoch 49/100\n",
            "63/63 [==============================] - 0s 3ms/step - loss: 0.4184 - accuracy: 0.7813 - val_loss: 0.6904 - val_accuracy: 0.7284\n",
            "Epoch 50/100\n",
            "63/63 [==============================] - 0s 3ms/step - loss: 0.4172 - accuracy: 0.7653 - val_loss: 0.6344 - val_accuracy: 0.7284\n",
            "Epoch 51/100\n",
            "63/63 [==============================] - 0s 3ms/step - loss: 0.4216 - accuracy: 0.7920 - val_loss: 0.6201 - val_accuracy: 0.7284\n",
            "Epoch 52/100\n",
            "63/63 [==============================] - 0s 2ms/step - loss: 0.4258 - accuracy: 0.7920 - val_loss: 0.5694 - val_accuracy: 0.7037\n",
            "Epoch 53/100\n",
            "63/63 [==============================] - 0s 3ms/step - loss: 0.4155 - accuracy: 0.8000 - val_loss: 0.5966 - val_accuracy: 0.7099\n",
            "Epoch 54/100\n",
            "63/63 [==============================] - 0s 2ms/step - loss: 0.4214 - accuracy: 0.7840 - val_loss: 0.5724 - val_accuracy: 0.7099\n",
            "Epoch 55/100\n",
            "63/63 [==============================] - 0s 2ms/step - loss: 0.4199 - accuracy: 0.7787 - val_loss: 0.5431 - val_accuracy: 0.7099\n",
            "Epoch 56/100\n",
            "63/63 [==============================] - 0s 3ms/step - loss: 0.4276 - accuracy: 0.7840 - val_loss: 0.6171 - val_accuracy: 0.7284\n",
            "Epoch 57/100\n",
            "63/63 [==============================] - 0s 3ms/step - loss: 0.4239 - accuracy: 0.7840 - val_loss: 0.5995 - val_accuracy: 0.7284\n",
            "Epoch 58/100\n",
            "63/63 [==============================] - 0s 3ms/step - loss: 0.4175 - accuracy: 0.7840 - val_loss: 0.5777 - val_accuracy: 0.7037\n",
            "Epoch 59/100\n",
            "63/63 [==============================] - 0s 3ms/step - loss: 0.4213 - accuracy: 0.7893 - val_loss: 0.6117 - val_accuracy: 0.7099\n",
            "Epoch 60/100\n",
            "63/63 [==============================] - 0s 3ms/step - loss: 0.4201 - accuracy: 0.7920 - val_loss: 0.5395 - val_accuracy: 0.7222\n",
            "Epoch 61/100\n",
            "63/63 [==============================] - 0s 3ms/step - loss: 0.4258 - accuracy: 0.7787 - val_loss: 0.5405 - val_accuracy: 0.7346\n",
            "Epoch 62/100\n",
            "63/63 [==============================] - 0s 3ms/step - loss: 0.4238 - accuracy: 0.7787 - val_loss: 0.5805 - val_accuracy: 0.7160\n",
            "Epoch 63/100\n",
            "63/63 [==============================] - 0s 3ms/step - loss: 0.4175 - accuracy: 0.7813 - val_loss: 0.5834 - val_accuracy: 0.7222\n",
            "Epoch 64/100\n",
            "63/63 [==============================] - 0s 3ms/step - loss: 0.4047 - accuracy: 0.8080 - val_loss: 0.5673 - val_accuracy: 0.6975\n",
            "Epoch 65/100\n",
            "63/63 [==============================] - 0s 3ms/step - loss: 0.4214 - accuracy: 0.7840 - val_loss: 0.6393 - val_accuracy: 0.7407\n",
            "Epoch 66/100\n",
            "63/63 [==============================] - 0s 3ms/step - loss: 0.4155 - accuracy: 0.8000 - val_loss: 0.6291 - val_accuracy: 0.7346\n",
            "Epoch 67/100\n",
            "63/63 [==============================] - 0s 3ms/step - loss: 0.4143 - accuracy: 0.7947 - val_loss: 0.6637 - val_accuracy: 0.7407\n",
            "Epoch 68/100\n",
            "63/63 [==============================] - 0s 3ms/step - loss: 0.4195 - accuracy: 0.7867 - val_loss: 0.6123 - val_accuracy: 0.7407\n",
            "Epoch 69/100\n",
            "63/63 [==============================] - 0s 3ms/step - loss: 0.4129 - accuracy: 0.7920 - val_loss: 0.6054 - val_accuracy: 0.7407\n",
            "Epoch 70/100\n",
            "63/63 [==============================] - 0s 3ms/step - loss: 0.4160 - accuracy: 0.8053 - val_loss: 0.6469 - val_accuracy: 0.7407\n",
            "Epoch 71/100\n",
            "63/63 [==============================] - 0s 3ms/step - loss: 0.4206 - accuracy: 0.7947 - val_loss: 0.5741 - val_accuracy: 0.7222\n",
            "Epoch 72/100\n",
            "63/63 [==============================] - 0s 3ms/step - loss: 0.4084 - accuracy: 0.8213 - val_loss: 0.5380 - val_accuracy: 0.7160\n",
            "Epoch 73/100\n",
            "63/63 [==============================] - 0s 4ms/step - loss: 0.4105 - accuracy: 0.7947 - val_loss: 0.6073 - val_accuracy: 0.7284\n",
            "Epoch 74/100\n",
            "63/63 [==============================] - 0s 3ms/step - loss: 0.4060 - accuracy: 0.7760 - val_loss: 0.5713 - val_accuracy: 0.7222\n",
            "Epoch 75/100\n",
            "63/63 [==============================] - 0s 3ms/step - loss: 0.4154 - accuracy: 0.7867 - val_loss: 0.5549 - val_accuracy: 0.7160\n",
            "Epoch 76/100\n",
            "63/63 [==============================] - 0s 3ms/step - loss: 0.4117 - accuracy: 0.8160 - val_loss: 0.6281 - val_accuracy: 0.7407\n",
            "Epoch 77/100\n",
            "63/63 [==============================] - 0s 3ms/step - loss: 0.4185 - accuracy: 0.8053 - val_loss: 0.5449 - val_accuracy: 0.7222\n",
            "Epoch 78/100\n",
            "63/63 [==============================] - 0s 3ms/step - loss: 0.4148 - accuracy: 0.8160 - val_loss: 0.6436 - val_accuracy: 0.7346\n",
            "Epoch 79/100\n",
            "63/63 [==============================] - 0s 3ms/step - loss: 0.4176 - accuracy: 0.8000 - val_loss: 0.5321 - val_accuracy: 0.7469\n",
            "Epoch 80/100\n",
            "63/63 [==============================] - 0s 2ms/step - loss: 0.4168 - accuracy: 0.7920 - val_loss: 0.5678 - val_accuracy: 0.7284\n",
            "Epoch 81/100\n",
            "63/63 [==============================] - 0s 3ms/step - loss: 0.4104 - accuracy: 0.7973 - val_loss: 0.5408 - val_accuracy: 0.7284\n",
            "Epoch 82/100\n",
            "63/63 [==============================] - 0s 3ms/step - loss: 0.4071 - accuracy: 0.7947 - val_loss: 0.5480 - val_accuracy: 0.7222\n",
            "Epoch 83/100\n",
            "63/63 [==============================] - 0s 3ms/step - loss: 0.4115 - accuracy: 0.7947 - val_loss: 0.5410 - val_accuracy: 0.7160\n",
            "Epoch 84/100\n",
            "63/63 [==============================] - 0s 3ms/step - loss: 0.4134 - accuracy: 0.7920 - val_loss: 0.5591 - val_accuracy: 0.7160\n",
            "Epoch 85/100\n",
            "63/63 [==============================] - 0s 3ms/step - loss: 0.4082 - accuracy: 0.8133 - val_loss: 0.5399 - val_accuracy: 0.7284\n",
            "Epoch 86/100\n",
            "63/63 [==============================] - 0s 3ms/step - loss: 0.4048 - accuracy: 0.7813 - val_loss: 0.6885 - val_accuracy: 0.7222\n",
            "Epoch 87/100\n",
            "63/63 [==============================] - 0s 3ms/step - loss: 0.4094 - accuracy: 0.8080 - val_loss: 0.5813 - val_accuracy: 0.7284\n",
            "Epoch 88/100\n",
            "63/63 [==============================] - 0s 3ms/step - loss: 0.4042 - accuracy: 0.8000 - val_loss: 0.6319 - val_accuracy: 0.7407\n",
            "Epoch 89/100\n",
            "63/63 [==============================] - 0s 2ms/step - loss: 0.4141 - accuracy: 0.7867 - val_loss: 0.5828 - val_accuracy: 0.7222\n",
            "Epoch 90/100\n",
            "63/63 [==============================] - 0s 2ms/step - loss: 0.4138 - accuracy: 0.7920 - val_loss: 0.6107 - val_accuracy: 0.7346\n",
            "Epoch 91/100\n",
            "63/63 [==============================] - 0s 2ms/step - loss: 0.4102 - accuracy: 0.7947 - val_loss: 0.5561 - val_accuracy: 0.7222\n",
            "Epoch 92/100\n",
            "63/63 [==============================] - 0s 2ms/step - loss: 0.4095 - accuracy: 0.7920 - val_loss: 0.6057 - val_accuracy: 0.7469\n",
            "Epoch 93/100\n",
            "63/63 [==============================] - 0s 3ms/step - loss: 0.4092 - accuracy: 0.8000 - val_loss: 0.5366 - val_accuracy: 0.7222\n",
            "Epoch 94/100\n",
            "63/63 [==============================] - 0s 3ms/step - loss: 0.4071 - accuracy: 0.7893 - val_loss: 0.5786 - val_accuracy: 0.7284\n",
            "Epoch 95/100\n",
            "63/63 [==============================] - 0s 3ms/step - loss: 0.4050 - accuracy: 0.8027 - val_loss: 0.5769 - val_accuracy: 0.7222\n",
            "Epoch 96/100\n",
            "63/63 [==============================] - 0s 3ms/step - loss: 0.4057 - accuracy: 0.7893 - val_loss: 0.5525 - val_accuracy: 0.7284\n",
            "Epoch 97/100\n",
            "63/63 [==============================] - 0s 3ms/step - loss: 0.4000 - accuracy: 0.8053 - val_loss: 0.6287 - val_accuracy: 0.7346\n",
            "Epoch 98/100\n",
            "63/63 [==============================] - 0s 3ms/step - loss: 0.4059 - accuracy: 0.8133 - val_loss: 0.5789 - val_accuracy: 0.7222\n",
            "Epoch 99/100\n",
            "63/63 [==============================] - 0s 3ms/step - loss: 0.4124 - accuracy: 0.7947 - val_loss: 0.6079 - val_accuracy: 0.7407\n",
            "Epoch 100/100\n",
            "63/63 [==============================] - 0s 3ms/step - loss: 0.3985 - accuracy: 0.8027 - val_loss: 0.6490 - val_accuracy: 0.7407\n"
          ]
        }
      ]
    },
    {
      "cell_type": "markdown",
      "metadata": {
        "id": "80o1i3fzZsA-"
      },
      "source": [
        "**11. Plot the training loss and accuracy**"
      ]
    },
    {
      "cell_type": "code",
      "source": [
        "import matplotlib.pyplot as plt \n",
        "acc = hist.history['accuracy']\n",
        "val_acc = hist.history['val_accuracy']\n",
        "loss = hist.history['loss']\n",
        "val_loss = hist.history['val_loss']\n",
        " \n",
        "epochs = range(len(acc))\n",
        " \n",
        "plt.plot(epochs, acc, 'b', label='Training acc')\n",
        "plt.plot(epochs, val_acc, 'r', label='Validation acc')\n",
        "plt.title('Training and validation accuracy')\n",
        "plt.legend()\n",
        "plt.savefig('custom_trainvalacc.png')\n",
        "plt.figure()\n",
        " \n",
        "plt.plot(epochs, loss, 'b', label='Training loss')\n",
        "plt.plot(epochs, val_loss, 'r', label='Validation loss')\n",
        "plt.title('Training and validation loss')\n",
        "plt.legend()\n",
        " \n",
        "#plt.show()\n",
        "plt.savefig('custom_trainvalloss.png')\n",
        "plt.figure()"
      ],
      "metadata": {
        "colab": {
          "base_uri": "https://localhost:8080/",
          "height": 580
        },
        "id": "69dOEi6HAiXT",
        "outputId": "ae602fbc-c83e-4e93-9477-a75529821a05"
      },
      "execution_count": 50,
      "outputs": [
        {
          "output_type": "execute_result",
          "data": {
            "text/plain": [
              "<Figure size 432x288 with 0 Axes>"
            ]
          },
          "metadata": {},
          "execution_count": 50
        },
        {
          "output_type": "display_data",
          "data": {
            "text/plain": [
              "<Figure size 432x288 with 1 Axes>"
            ],
            "image/png": "[encoded data removed]"
          },
          "metadata": {
            "needs_background": "light"
          }
        },
        {
          "output_type": "display_data",
          "data": {
            "text/plain": [
              "<Figure size 432x288 with 1 Axes>"
            ],
            "image/png": "[encoded data removed]"
          },
          "metadata": {
            "needs_background": "light"
          }
        },
        {
          "output_type": "display_data",
          "data": {
            "text/plain": [
              "<Figure size 432x288 with 0 Axes>"
            ]
          },
          "metadata": {}
        }
      ]
    },
    {
      "cell_type": "markdown",
      "metadata": {
        "id": "a8fUXoqeZvwf"
      },
      "source": [
        "**12. Evaluate the performance**"
      ]
    },
    {
      "cell_type": "code",
      "metadata": {
        "colab": {
          "base_uri": "https://localhost:8080/"
        },
        "id": "wawHhkURYMLE",
        "outputId": "081aa30d-f79a-4375-ec49-f57e09362e85"
      },
      "source": [
        "res =model.evaluate(X_testing, Y_testing)"
      ],
      "execution_count": 51,
      "outputs": [
        {
          "output_type": "stream",
          "name": "stdout",
          "text": [
            "8/8 [==============================] - 0s 3ms/step - loss: 0.5771 - accuracy: 0.7403\n"
          ]
        }
      ]
    },
    {
      "cell_type": "markdown",
      "metadata": {
        "id": "0WCSw36oZyG_"
      },
      "source": [
        "**13. Predict on new datatset**\n"
      ]
    },
    {
      "cell_type": "code",
      "metadata": {
        "colab": {
          "base_uri": "https://localhost:8080/"
        },
        "id": "CcE27mGFYo3G",
        "outputId": "d0c58e4e-5ce3-443d-976b-98cec5204043"
      },
      "source": [
        "test=X_testing[0]\n",
        "y_act=Y_testing[0]\n",
        "result=model.predict(test.reshape(1,8))\n",
        "result"
      ],
      "execution_count": 52,
      "outputs": [
        {
          "output_type": "execute_result",
          "data": {
            "text/plain": [
              "array([[0.49596664, 0.5040333 ]], dtype=float32)"
            ]
          },
          "metadata": {},
          "execution_count": 52
        }
      ]
    },
    {
      "cell_type": "code",
      "metadata": {
        "colab": {
          "base_uri": "https://localhost:8080/"
        },
        "id": "T4RDC-ZHYqv_",
        "outputId": "641b9a4c-8c65-4f3a-e235-6fcf79437c55"
      },
      "source": [
        "import numpy as np\n",
        "y_pred = np.round(result)\n",
        "print(\"Actual:\"+ str(y_act))\n",
        "print(\"Predicted:\"+str(y_pred))"
      ],
      "execution_count": 53,
      "outputs": [
        {
          "output_type": "stream",
          "name": "stdout",
          "text": [
            "Actual:[1. 0.]\n",
            "Predicted:[[0. 1.]]\n"
          ]
        }
      ]
    },
    {
      "cell_type": "markdown",
      "metadata": {
        "id": "E9mMqJtXYz2Q"
      },
      "source": [
        "**Reference:** - https://keras.io/"
      ]
    }
  ]
}